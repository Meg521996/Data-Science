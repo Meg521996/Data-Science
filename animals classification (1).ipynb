{
 "cells": [
  {
   "cell_type": "code",
   "execution_count": 1,
   "metadata": {
    "_cell_guid": "b1076dfc-b9ad-4769-8c92-a6c4dae69d19",
    "_kg_hide-input": false,
    "_kg_hide-output": false,
    "_uuid": "8f2839f25d086af736a60e9eeb907d3b93b6e0e5"
   },
   "outputs": [],
   "source": [
    "import numpy as np \n",
    "import pandas as pd \n",
    "import os"
   ]
  },
  {
   "cell_type": "code",
   "execution_count": 2,
   "metadata": {
    "_cell_guid": "79c7e3d0-c299-4dcb-8224-4455121ee9b0",
    "_uuid": "d629ff2d2480ee46fbb7e2d37f6b5fab8052498a"
   },
   "outputs": [
    {
     "name": "stderr",
     "output_type": "stream",
     "text": [
      "Using TensorFlow backend.\n"
     ]
    }
   ],
   "source": [
    "import numpy as np\n",
    "import matplotlib.pyplot as plt\n",
    "from keras.models import Sequential\n",
    "from keras.layers import Dense, Dropout, Activation, Flatten\n",
    "from keras.layers import Conv2D, MaxPooling2D\n",
    "from keras.utils import np_utils\n",
    "from sklearn.utils import class_weight, shuffle"
   ]
  },
  {
   "cell_type": "code",
   "execution_count": 3,
   "metadata": {},
   "outputs": [],
   "source": [
    "os.listdir('C:/Users/Rajshah/animals10/raw-img')\n",
    "foldernames = os.listdir('C:/Users/Rajshah/animals10/raw-img')\n",
    "categories = []\n",
    "files = []\n",
    "i = 0\n",
    "labels = []\n",
    "for folder in foldernames:\n",
    "    filenames = os.listdir(\"C:/Users/Rajshah/animals10/raw-img/\" + folder);\n",
    "    for file in filenames:\n",
    "        files.append(\"C:/Users/Rajshah/animals10/raw-img/\" + folder + \"/\" + file)\n",
    "        categories.append(i)\n",
    "    i = i + 1\n",
    "    labels.append(folder)\n",
    "        \n",
    "        \n",
    "df = pd.DataFrame({\n",
    "    'filename': files,\n",
    "    'category': categories\n",
    "})"
   ]
  },
  {
   "cell_type": "code",
   "execution_count": 4,
   "metadata": {},
   "outputs": [
    {
     "data": {
      "text/plain": [
       "<matplotlib.axes._subplots.AxesSubplot at 0x7fe85c951ba8>"
      ]
     },
     "execution_count": 4,
     "metadata": {},
     "output_type": "execute_result"
    },
    {
     "data": {
      "image/png": "[encoded data removed]",
      "text/plain": [
       "<Figure size 432x288 with 1 Axes>"
      ]
     },
     "metadata": {
      "needs_background": "light"
     },
     "output_type": "display_data"
    }
   ],
   "source": [
    "x = df['filename']\n",
    "y = df['category']\n",
    "\n",
    "x, y = shuffle(x, y, random_state=8)\n",
    "y.hist()"
   ]
  },
  {
   "cell_type": "code",
   "execution_count": 5,
   "metadata": {},
   "outputs": [],
   "source": [
    "import cv2\n",
    "sift = cv2.ORB_create()\n",
    "def fd_sift(image) :\n",
    "    gray = cv2.cvtColor(image, cv2.COLOR_BGR2GRAY)\n",
    "\n",
    "    kps, des = sift.detectAndCompute(image, None)\n",
    "    return des if des is not None else np.array([]).reshape(0, 128)"
   ]
  },
  {
   "cell_type": "code",
   "execution_count": 6,
   "metadata": {},
   "outputs": [],
   "source": [
    "global_features = []\n",
    "labels          = y\n",
    "fixed_size = (500,500)\n",
    "for file in x[:2000]:\n",
    "    image = cv2.imread(file)\n",
    "    image.resize((500,500,3))\n",
    "    image = cv2.cvtColor(image, cv2.COLOR_BGR2GRAY)\n",
    "    \n",
    "    global_feature = np.hstack([image])\n",
    "    global_feature.resize(fixed_size)\n",
    "    global_features.append(global_feature)"
   ]
  },
  {
   "cell_type": "code",
   "execution_count": 7,
   "metadata": {},
   "outputs": [
    {
     "name": "stdout",
     "output_type": "stream",
     "text": [
      "(500, 500)\n",
      "(500, 500)\n",
      "(500, 500)\n",
      "(500, 500)\n",
      "(500, 500)\n",
      "(500, 500)\n",
      "(500, 500)\n",
      "(500, 500)\n",
      "(500, 500)\n",
      "(500, 500)\n"
     ]
    }
   ],
   "source": [
    "for i in global_features[:10]:\n",
    "    print(i.shape)"
   ]
  },
  {
   "cell_type": "code",
   "execution_count": 8,
   "metadata": {},
   "outputs": [
    {
     "data": {
      "text/plain": [
       "(2000, (2000, 250000))"
      ]
     },
     "execution_count": 8,
     "metadata": {},
     "output_type": "execute_result"
    }
   ],
   "source": [
    "X_train = np.array(global_features)\n",
    "X_train = X_train.reshape(len(X_train),500*500)\n",
    "Y_train = np.array(y[0:2000])\n",
    "len(X_train),X_train.shape"
   ]
  },
  {
   "cell_type": "code",
   "execution_count": 9,
   "metadata": {},
   "outputs": [
    {
     "name": "stdout",
     "output_type": "stream",
     "text": [
      "(1400, 250000)\n",
      "(1400,)\n",
      "(600, 250000)\n",
      "(600,)\n"
     ]
    }
   ],
   "source": [
    "from sklearn.model_selection import train_test_split\n",
    "train_x, valid_x, train_y, valid_y = train_test_split(X_train, Y_train, \n",
    "                                                      test_size=0.3, \n",
    "                                                      stratify=Y_train, \n",
    "                                                      random_state=8)\n",
    "print(train_x.shape)\n",
    "print(train_y.shape)\n",
    "print(valid_x.shape)\n",
    "print(valid_y.shape)"
   ]
  },
  {
   "cell_type": "code",
   "execution_count": 10,
   "metadata": {},
   "outputs": [
    {
     "name": "stdout",
     "output_type": "stream",
     "text": [
      "(1400, 250000) (1400,) (600, 250000) (600,)\n"
     ]
    }
   ],
   "source": [
    "(X_train, y_train), (X_test, y_test) = (train_x, train_y), (valid_x, valid_y)\n",
    "test_x,X_val, test_y, y_val = train_test_split(X_test, y_test, \n",
    "                                                      test_size=0.5, \n",
    "                                                      stratify=y_test, \n",
    "                                                      random_state=8)\n",
    "\n",
    "print(X_train.shape,y_train.shape,X_test.shape,y_test.shape)"
   ]
  },
  {
   "cell_type": "code",
   "execution_count": 11,
   "metadata": {},
   "outputs": [
    {
     "name": "stdout",
     "output_type": "stream",
     "text": [
      "(1400, 500, 500, 1) (300, 500, 500, 1) (600, 500, 500, 1)\n"
     ]
    }
   ],
   "source": [
    "X_train = X_train.reshape(X_train.shape[0], 500, 500,1)\n",
    "X_val = X_val.reshape(X_val.shape[0], 500, 500,1)\n",
    "X_test = X_test.reshape(X_test.shape[0], 500, 500,1)\n",
    "print(X_train.shape,X_val.shape,X_test.shape)"
   ]
  },
  {
   "cell_type": "code",
   "execution_count": 12,
   "metadata": {},
   "outputs": [
    {
     "name": "stdout",
     "output_type": "stream",
     "text": [
      "(1400, 10) (300, 10) (600, 10)\n"
     ]
    }
   ],
   "source": [
    "Y_train = np_utils.to_categorical(y_train,10)\n",
    "Y_val = np_utils.to_categorical(y_val,10)\n",
    "Y_test = np_utils.to_categorical(y_test,10)\n",
    "print(Y_train.shape,Y_val.shape,Y_test.shape)"
   ]
  },
  {
   "cell_type": "code",
   "execution_count": 13,
   "metadata": {},
   "outputs": [],
   "source": [
    "model = Sequential()\n",
    "model.add(Conv2D(32, (3, 3), activation='sigmoid', input_shape=(500,500,1)))\n",
    "model.add(Conv2D(32, (3, 3), activation='sigmoid'))\n",
    "model.add(MaxPooling2D(pool_size=(2,2)))\n",
    "model.add(Flatten())\n",
    "model.add(Dense(128, activation='sigmoid'))\n",
    "model.add(Dense(10, activation='softmax'))"
   ]
  },
  {
   "cell_type": "code",
   "execution_count": 14,
   "metadata": {},
   "outputs": [],
   "source": [
    "model.compile(loss='categorical_crossentropy', optimizer='adam', metrics=['accuracy'])"
   ]
  },
  {
   "cell_type": "code",
   "execution_count": 15,
   "metadata": {},
   "outputs": [
    {
     "name": "stdout",
     "output_type": "stream",
     "text": [
      "Train on 1400 samples, validate on 300 samples\n",
      "Epoch 1/10\n",
      "1400/1400 [==============================] - 14s 10ms/step - loss: 2.4696 - accuracy: 0.1407 - val_loss: 2.2553 - val_accuracy: 0.1967\n",
      "Epoch 2/10\n",
      "1400/1400 [==============================] - 11s 8ms/step - loss: 2.2212 - accuracy: 0.1957 - val_loss: 2.1948 - val_accuracy: 0.1967\n",
      "Epoch 3/10\n",
      "1400/1400 [==============================] - 11s 8ms/step - loss: 2.1998 - accuracy: 0.1879 - val_loss: 2.1935 - val_accuracy: 0.1967\n",
      "Epoch 4/10\n",
      "1400/1400 [==============================] - 11s 8ms/step - loss: 2.2017 - accuracy: 0.1779 - val_loss: 2.1937 - val_accuracy: 0.1967\n",
      "Epoch 5/10\n",
      "1400/1400 [==============================] - 11s 8ms/step - loss: 2.2004 - accuracy: 0.1757 - val_loss: 2.1929 - val_accuracy: 0.1967\n",
      "Epoch 6/10\n",
      "1400/1400 [==============================] - 11s 8ms/step - loss: 2.2007 - accuracy: 0.1836 - val_loss: 2.1925 - val_accuracy: 0.1967\n",
      "Epoch 7/10\n",
      "1400/1400 [==============================] - 11s 8ms/step - loss: 2.2013 - accuracy: 0.1821 - val_loss: 2.1927 - val_accuracy: 0.1967\n",
      "Epoch 8/10\n",
      "1400/1400 [==============================] - 11s 8ms/step - loss: 2.2023 - accuracy: 0.1907 - val_loss: 2.1935 - val_accuracy: 0.1967\n",
      "Epoch 9/10\n",
      "1400/1400 [==============================] - 11s 8ms/step - loss: 2.2001 - accuracy: 0.1864 - val_loss: 2.1943 - val_accuracy: 0.1967\n",
      "Epoch 10/10\n",
      "1400/1400 [==============================] - 11s 8ms/step - loss: 2.2014 - accuracy: 0.1836 - val_loss: 2.1941 - val_accuracy: 0.1967\n"
     ]
    }
   ],
   "source": [
    "H = model.fit(X_train, Y_train, validation_data=(X_val, Y_val), batch_size=32, epochs=10, verbose=1)"
   ]
  },
  {
   "cell_type": "code",
   "execution_count": 16,
   "metadata": {},
   "outputs": [
    {
     "data": {
      "text/plain": [
       "<matplotlib.legend.Legend at 0x7fe8500982e8>"
      ]
     },
     "execution_count": 16,
     "metadata": {},
     "output_type": "execute_result"
    },
    {
     "data": {
      "image/png": "[encoded data removed]",
      "text/plain": [
       "<Figure size 432x288 with 1 Axes>"
      ]
     },
     "metadata": {
      "needs_background": "light"
     },
     "output_type": "display_data"
    }
   ],
   "source": [
    "fig = plt.figure()\n",
    "numOfEpoch = 10\n",
    "plt.plot(np.arange(0, numOfEpoch), H.history['loss'], label='training loss')\n",
    "plt.plot(np.arange(0, numOfEpoch), H.history['val_loss'], label='validation loss')\n",
    "plt.plot(np.arange(0, numOfEpoch), H.history['accuracy'], label='accuracy')\n",
    "plt.plot(np.arange(0, numOfEpoch), H.history['val_accuracy'], label='validation accuracy')\n",
    "plt.title('Accuracy and Loss')\n",
    "plt.xlabel('Epoch')\n",
    "plt.ylabel('Loss|Accuracy')\n",
    "plt.legend()"
   ]
  },
  {
   "cell_type": "code",
   "execution_count": null,
   "metadata": {},
   "outputs": [],
   "source": [
    "model.save('animal_classification.h5')"
   ]
  },
  {
   "cell_type": "code",
   "execution_count": null,
   "metadata": {},
   "outputs": [],
   "source": [
    "load_model = tf.keras.models.load_model('animal_classification.h5')"
   ]
  },
  {
   "cell_type": "code",
   "execution_count": null,
   "metadata": {},
   "outputs": [],
   "source": [
    "image_path = 'C:\\Users\\Rajshah\\animals10\\raw-img\\cavallo\\OIP-_4xQfMZofBLJHN-EjvNIbAHaFa.jpeg'\n",
    "img = image.load_img(image_path, target_size=(500,500))\n",
    "plt.imshow(img)\n",
    "result = load_model.predict(np.array(img))"
   ]
  },
  {
   "cell_type": "code",
   "execution_count": null,
   "metadata": {},
   "outputs": [],
   "source": [
    "result"
   ]
  },
  {
   "cell_type": "code",
   "execution_count": null,
   "metadata": {},
   "outputs": [],
   "source": [
    "number_to_class = ['cane', 'cavallo', 'elefante', 'farfalla', 'gallina', 'gatto', 'mucca', 'pecora', 'ragno', 'scoiattolo'] \n",
    "index = np.argsort(result[0,:])"
   ]
  }
 ],
 "metadata": {
  "kernelspec": {
   "display_name": "Python 3",
   "language": "python",
   "name": "python3"
  },
  "language_info": {
   "codemirror_mode": {
    "name": "ipython",
    "version": 3
   },
   "file_extension": ".py",
   "mimetype": "text/x-python",
   "name": "python",
   "nbconvert_exporter": "python",
   "pygments_lexer": "ipython3",
   "version": "3.7.1"
  }
 },
 "nbformat": 4,
 "nbformat_minor": 1
}
