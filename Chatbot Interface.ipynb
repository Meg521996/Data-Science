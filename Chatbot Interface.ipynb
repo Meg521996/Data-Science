{
 "cells": [
  {
   "cell_type": "code",
   "execution_count": 23,
   "metadata": {},
   "outputs": [
    {
     "name": "stdout",
     "output_type": "stream",
     "text": [
      "--2019-09-18 07:29:58--  https://raw.githubusercontent.com/sathannan/DataScienceTraining/master/QnA_toefl.csv\r\n",
      "Resolving raw.githubusercontent.com (raw.githubusercontent.com)... 151.101.48.133\r\n",
      "Connecting to raw.githubusercontent.com (raw.githubusercontent.com)|151.101.48.133|:443... connected.\r\n",
      "HTTP request sent, awaiting response... 200 OK\r\n",
      "Length: 13713 (13K) [text/plain]\r\n",
      "Saving to: ‘QnA_toefl.csv’\r\n",
      "\r\n",
      "\r",
      " 0% [                                       ] 0           --.-K/s              \r",
      "100%[======================================>] 13,713      --.-K/s   in 0.001s  \r\n",
      "\r\n",
      "2019-09-18 07:29:58 (11.9 MB/s) - ‘QnA_toefl.csv’ saved [13713/13713]\r\n",
      "\r\n"
     ]
    }
   ],
   "source": [
    "!wget -O QnA_toefl.csv https://raw.githubusercontent.com/sathannan/DataScienceTraining/master/QnA_toefl.csv"
   ]
  },
  {
   "cell_type": "code",
   "execution_count": 24,
   "metadata": {
    "scrolled": true
   },
   "outputs": [
    {
     "name": "stderr",
     "output_type": "stream",
     "text": [
      "[nltk_data] Downloading package stopwords to\n",
      "[nltk_data]     /home/dsxuser/nltk_data...\n",
      "[nltk_data]   Package stopwords is already up-to-date!\n",
      "[nltk_data] Downloading package punkt to /home/dsxuser/nltk_data...\n",
      "[nltk_data]   Package punkt is already up-to-date!\n"
     ]
    },
    {
     "data": {
      "text/plain": [
       "True"
      ]
     },
     "execution_count": 24,
     "metadata": {},
     "output_type": "execute_result"
    }
   ],
   "source": [
    "import nltk\n",
    "nltk.download('stopwords')\n",
    "nltk.download('punkt')"
   ]
  },
  {
   "cell_type": "code",
   "execution_count": 25,
   "metadata": {},
   "outputs": [],
   "source": [
    "import pandas as pd\n",
    "data = pd.read_csv(\"QnA_toefl.csv\")"
   ]
  },
  {
   "cell_type": "code",
   "execution_count": 26,
   "metadata": {},
   "outputs": [
    {
     "data": {
      "text/html": [
       "<div>\n",
       "<style scoped>\n",
       "    .dataframe tbody tr th:only-of-type {\n",
       "        vertical-align: middle;\n",
       "    }\n",
       "\n",
       "    .dataframe tbody tr th {\n",
       "        vertical-align: top;\n",
       "    }\n",
       "\n",
       "    .dataframe thead th {\n",
       "        text-align: right;\n",
       "    }\n",
       "</style>\n",
       "<table border=\"1\" class=\"dataframe\">\n",
       "  <thead>\n",
       "    <tr style=\"text-align: right;\">\n",
       "      <th></th>\n",
       "      <th>Question</th>\n",
       "      <th>Answer</th>\n",
       "    </tr>\n",
       "  </thead>\n",
       "  <tbody>\n",
       "    <tr>\n",
       "      <th>0</th>\n",
       "      <td>What is the TOEFL test</td>\n",
       "      <td>The TOEFL test measures the ability of non-nat...</td>\n",
       "    </tr>\n",
       "    <tr>\n",
       "      <th>1</th>\n",
       "      <td>What is the difference between the TOEFL iBT t...</td>\n",
       "      <td>The TOEFL iBT test, delivered via the internet...</td>\n",
       "    </tr>\n",
       "    <tr>\n",
       "      <th>2</th>\n",
       "      <td>How do I know what an institution's score requ...</td>\n",
       "      <td>Each institution sets its own score requiremen...</td>\n",
       "    </tr>\n",
       "    <tr>\n",
       "      <th>3</th>\n",
       "      <td>How often is the test given</td>\n",
       "      <td>The TOEFL iBT test is given on fixed dates, mo...</td>\n",
       "    </tr>\n",
       "    <tr>\n",
       "      <th>4</th>\n",
       "      <td>How do I find testing locations and dates</td>\n",
       "      <td>Choose an available test date from among testi...</td>\n",
       "    </tr>\n",
       "  </tbody>\n",
       "</table>\n",
       "</div>"
      ],
      "text/plain": [
       "                                            Question  \\\n",
       "0                             What is the TOEFL test   \n",
       "1  What is the difference between the TOEFL iBT t...   \n",
       "2  How do I know what an institution's score requ...   \n",
       "3                        How often is the test given   \n",
       "4          How do I find testing locations and dates   \n",
       "\n",
       "                                              Answer  \n",
       "0  The TOEFL test measures the ability of non-nat...  \n",
       "1  The TOEFL iBT test, delivered via the internet...  \n",
       "2  Each institution sets its own score requiremen...  \n",
       "3  The TOEFL iBT test is given on fixed dates, mo...  \n",
       "4  Choose an available test date from among testi...  "
      ]
     },
     "execution_count": 26,
     "metadata": {},
     "output_type": "execute_result"
    }
   ],
   "source": [
    "data.head()"
   ]
  },
  {
   "cell_type": "code",
   "execution_count": 27,
   "metadata": {},
   "outputs": [],
   "source": [
    "from sklearn.feature_extraction.text import TfidfVectorizer\n",
    "\n",
    "vectorizer = TfidfVectorizer(\n",
    "    input='content',     # input is actual text\n",
    "    lowercase=True,      # convert to lower case before tokenizing\n",
    "    stop_words='english' # remove stop words\n",
    ")\n",
    "transformed_data = vectorizer.fit_transform(data['Question'])"
   ]
  },
  {
   "cell_type": "code",
   "execution_count": 28,
   "metadata": {},
   "outputs": [],
   "source": [
    "user_input = \"what is TOEFL test\"\n",
    "transformed_user_input = vectorizer.transform([user_input])"
   ]
  },
  {
   "cell_type": "code",
   "execution_count": 29,
   "metadata": {},
   "outputs": [
    {
     "name": "stdout",
     "output_type": "stream",
     "text": [
      "The TOEFL test measures the ability of non-native English speakers to use and understand the English language as it is heard, spoken, read and written in the university classroom.\n",
      "Score: [[1.]]\n",
      "\n",
      "\n",
      "It's the most highly respected around the world. It's the most widely accepted. It's the most accurately measured. It's the most fair and unbiased. It's the most convenient.\n",
      "Score: [[0.68354015]]\n",
      "\n",
      "\n",
      "Plan to take the TOEFL test 2 to 3 months before your earliest application or other deadline so your scores arrive at your institutions or agencies in time. Find application deadlines by checking each score recipient s website.\n",
      "Score: [[0.66758818]]\n",
      "\n",
      "\n"
     ]
    }
   ],
   "source": [
    "from sklearn.metrics.pairwise import cosine_similarity\n",
    "cos_sims = []\n",
    "for question in data['Question']:\n",
    "    sims = cosine_similarity(vectorizer.transform([question]), transformed_user_input)\n",
    "    cos_sims.append(sims)\n",
    "ind = sorted(range(len(cos_sims)), key=lambda i: cos_sims[i], reverse=True)[:3]\n",
    "for index in ind:\n",
    "    print(data.iloc[index,1])\n",
    "    print(\"Score:\",cos_sims[index])\n",
    "    print(\"\\n\")"
   ]
  },
  {
   "cell_type": "code",
   "execution_count": 30,
   "metadata": {},
   "outputs": [
    {
     "name": "stdout",
     "output_type": "stream",
     "text": [
      "Requirement already satisfied: python-telegram-bot in /opt/conda/envs/Python36/lib/python3.6/site-packages (12.1.1)\n",
      "Requirement already satisfied: tornado>=5.1 in /opt/conda/envs/Python36/lib/python3.6/site-packages (from python-telegram-bot) (5.1.1)\n",
      "Requirement already satisfied: cryptography in /opt/conda/envs/Python36/lib/python3.6/site-packages (from python-telegram-bot) (2.5)\n",
      "Requirement already satisfied: future>=0.16.0 in /opt/conda/envs/Python36/lib/python3.6/site-packages (from python-telegram-bot) (0.17.1)\n",
      "Requirement already satisfied: certifi in /opt/conda/envs/Python36/lib/python3.6/site-packages (from python-telegram-bot) (2019.6.16)\n",
      "Requirement already satisfied: asn1crypto>=0.21.0 in /opt/conda/envs/Python36/lib/python3.6/site-packages (from cryptography->python-telegram-bot) (0.24.0)\n",
      "Requirement already satisfied: cffi!=1.11.3,>=1.8 in /opt/conda/envs/Python36/lib/python3.6/site-packages (from cryptography->python-telegram-bot) (1.11.5)\n",
      "Requirement already satisfied: six>=1.4.1 in /opt/conda/envs/Python36/lib/python3.6/site-packages (from cryptography->python-telegram-bot) (1.12.0)\n",
      "Requirement already satisfied: pycparser in /opt/conda/envs/Python36/lib/python3.6/site-packages (from cffi!=1.11.3,>=1.8->cryptography->python-telegram-bot) (2.19)\n"
     ]
    }
   ],
   "source": [
    "!pip install python-telegram-bot"
   ]
  },
  {
   "cell_type": "code",
   "execution_count": null,
   "metadata": {},
   "outputs": [
    {
     "name": "stderr",
     "output_type": "stream",
     "text": [
      "/opt/conda/envs/Python36/lib/python3.6/site-packages/ipykernel/__main__.py:22: TelegramDeprecationWarning: Old Handler API is deprecated - see https://git.io/fxJuV for details\n"
     ]
    },
    {
     "name": "stdout",
     "output_type": "stream",
     "text": [
      "Bot started\n"
     ]
    }
   ],
   "source": [
    "from telegram.ext import Updater, CommandHandler, MessageHandler, Filters\n",
    "\n",
    "def start(bot, update):\n",
    "  update.message.reply_text(\"I'm a bot, Nice to meet you!\")\n",
    "\n",
    "def greet(bot, update):\n",
    "  update.message.reply_text(\"Good Morning!\")\n",
    "  \n",
    "def getAnswer(bot, update):\n",
    "    question = update.message.text\n",
    "    print(question)\n",
    "    transformed_user_input = vectorizer.transform([question])\n",
    "    cos_sims = []\n",
    "    for question in data['Question']:\n",
    "        sims = cosine_similarity(vectorizer.transform([question]), transformed_user_input)\n",
    "        cos_sims.append(sims)\n",
    "    ind = cos_sims.index(max(cos_sims))   \n",
    "    update.message.reply_text(data.iloc[ind,1])\n",
    "\n",
    "def main():\n",
    "  # Create Updater object and attach dispatcher to it\n",
    "  updater = Updater(\"765915741:AAFRlwMDq0p8MUdnTQUeW7mT4lsDVEe7DJY\")\n",
    "  dispatcher = updater.dispatcher\n",
    "  print(\"Bot started\")\n",
    "\n",
    "  # Add command handler to dispatcher\n",
    "  start_handler = CommandHandler('start',start)\n",
    "  dispatcher.add_handler(start_handler)\n",
    "\n",
    "  greet_handler = CommandHandler('greet',greet)\n",
    "  dispatcher.add_handler(greet_handler)\n",
    "    \n",
    "  getAnswer_handler = MessageHandler(Filters.text, getAnswer)\n",
    "  dispatcher.add_handler(getAnswer_handler)\n",
    "\n",
    "  # Start the bot\n",
    "  updater.start_polling()\n",
    "\n",
    "  # Run the bot until you press Ctrl-C\n",
    "  updater.idle()\n",
    "\n",
    "if __name__ == '__main__':\n",
    "  main()"
   ]
  },
  {
   "cell_type": "code",
   "execution_count": null,
   "metadata": {},
   "outputs": [],
   "source": []
  },
  {
   "cell_type": "code",
   "execution_count": null,
   "metadata": {},
   "outputs": [],
   "source": []
  },
  {
   "cell_type": "code",
   "execution_count": null,
   "metadata": {},
   "outputs": [],
   "source": []
  },
  {
   "cell_type": "code",
   "execution_count": null,
   "metadata": {},
   "outputs": [],
   "source": []
  },
  {
   "cell_type": "code",
   "execution_count": null,
   "metadata": {},
   "outputs": [],
   "source": []
  },
  {
   "cell_type": "code",
   "execution_count": null,
   "metadata": {},
   "outputs": [],
   "source": []
  },
  {
   "cell_type": "code",
   "execution_count": null,
   "metadata": {},
   "outputs": [],
   "source": []
  },
  {
   "cell_type": "code",
   "execution_count": null,
   "metadata": {},
   "outputs": [],
   "source": []
  },
  {
   "cell_type": "code",
   "execution_count": null,
   "metadata": {},
   "outputs": [],
   "source": []
  },
  {
   "cell_type": "code",
   "execution_count": null,
   "metadata": {},
   "outputs": [],
   "source": []
  }
 ],
 "metadata": {
  "kernelspec": {
   "display_name": "Python 3",
   "language": "python",
   "name": "python3"
  },
  "language_info": {
   "codemirror_mode": {
    "name": "ipython",
    "version": 3
   },
   "file_extension": ".py",
   "mimetype": "text/x-python",
   "name": "python",
   "nbconvert_exporter": "python",
   "pygments_lexer": "ipython3",
   "version": "3.7.1"
  }
 },
 "nbformat": 4,
 "nbformat_minor": 1
}
